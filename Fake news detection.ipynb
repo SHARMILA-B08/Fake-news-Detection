{
 "cells": [
  {
   "cell_type": "code",
   "execution_count": null,
   "id": "5ba7f3c7-7edb-4bc6-9ab9-38e6243c6e5c",
   "metadata": {},
   "outputs": [],
   "source": []
  }
 ],
 "metadata": {
  "kernelspec": {
   "display_name": "",
   "name": ""
  },
  "language_info": {
   "name": ""
  }
 },
 "nbformat": 4,
 "nbformat_minor": 5
}
